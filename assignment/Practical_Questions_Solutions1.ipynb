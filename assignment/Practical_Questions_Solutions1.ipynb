{
 "cells": [
  {
   "cell_type": "markdown",
   "id": "61e4eeba",
   "metadata": {},
   "source": [
    "# Practical Questions with Solutions"
   ]
  },
  {
   "cell_type": "markdown",
   "id": "51f9f7c1",
   "metadata": {},
   "source": [
    "### 1. Write a code to create a string with your name and print it."
   ]
  },
  {
   "cell_type": "code",
   "execution_count": null,
   "id": "33b851ba",
   "metadata": {},
   "outputs": [],
   "source": [
    "name = 'Pankaj'\n",
    "print(name)"
   ]
  },
  {
   "cell_type": "markdown",
   "id": "6932257f",
   "metadata": {},
   "source": [
    "### 2. Write a code to find the length of the string 'Hello World'."
   ]
  },
  {
   "cell_type": "code",
   "execution_count": null,
   "id": "1ad7fe7b",
   "metadata": {},
   "outputs": [],
   "source": [
    "string = 'Hello World'\n",
    "print(len(string))"
   ]
  },
  {
   "cell_type": "markdown",
   "id": "d9476cd1",
   "metadata": {},
   "source": [
    "### 3. Write a code to slice the first 3 characters from the string 'Python Programming'."
   ]
  },
  {
   "cell_type": "code",
   "execution_count": null,
   "id": "02a89777",
   "metadata": {},
   "outputs": [],
   "source": [
    "s = 'Python Programming'\n",
    "print(s[:3])"
   ]
  },
  {
   "cell_type": "markdown",
   "id": "e7ee7b13",
   "metadata": {},
   "source": [
    "### 4. Write a code to convert the string 'hello' to uppercase."
   ]
  },
  {
   "cell_type": "code",
   "execution_count": null,
   "id": "d880f6b3",
   "metadata": {},
   "outputs": [],
   "source": [
    "s = 'hello'\n",
    "print(s.upper())"
   ]
  },
  {
   "cell_type": "markdown",
   "id": "ff5a950d",
   "metadata": {},
   "source": [
    "### 5. Write a code to replace the word 'apple' with 'orange' in the string 'I like apple'."
   ]
  },
  {
   "cell_type": "code",
   "execution_count": null,
   "id": "b7217b1b",
   "metadata": {},
   "outputs": [],
   "source": [
    "s = 'I like apple'\n",
    "print(s.replace('apple', 'orange'))"
   ]
  },
  {
   "cell_type": "markdown",
   "id": "dd60f61d",
   "metadata": {},
   "source": [
    "### 6. Write a code to create a list with numbers 1 to 5 and print it."
   ]
  },
  {
   "cell_type": "code",
   "execution_count": null,
   "id": "c418eb4a",
   "metadata": {},
   "outputs": [],
   "source": [
    "my_list = [1, 2, 3, 4, 5]\n",
    "print(my_list)"
   ]
  },
  {
   "cell_type": "markdown",
   "id": "be32c0af",
   "metadata": {},
   "source": [
    "### 7. Write a code to append the number 10 to the list [1, 2, 3, 4]."
   ]
  },
  {
   "cell_type": "code",
   "execution_count": null,
   "id": "55105a1f",
   "metadata": {},
   "outputs": [],
   "source": [
    "my_list = [1, 2, 3, 4]\n",
    "my_list.append(10)\n",
    "print(my_list)"
   ]
  },
  {
   "cell_type": "markdown",
   "id": "abbf6317",
   "metadata": {},
   "source": [
    "### 8. Write a code to remove the number 3 from the list [1, 2, 3, 4, 5]."
   ]
  },
  {
   "cell_type": "code",
   "execution_count": null,
   "id": "655fc5ae",
   "metadata": {},
   "outputs": [],
   "source": [
    "my_list = [1, 2, 3, 4, 5]\n",
    "my_list.remove(3)\n",
    "print(my_list)"
   ]
  },
  {
   "cell_type": "markdown",
   "id": "86369f4c",
   "metadata": {},
   "source": [
    "### 9. Write a code to access the second element in the list ['a', 'b', 'c', 'd']."
   ]
  },
  {
   "cell_type": "code",
   "execution_count": null,
   "id": "ef6927f9",
   "metadata": {},
   "outputs": [],
   "source": [
    "my_list = ['a', 'b', 'c', 'd']\n",
    "print(my_list[1])"
   ]
  },
  {
   "cell_type": "markdown",
   "id": "251d43b0",
   "metadata": {},
   "source": [
    "### 10. Write a code to reverse the list [10, 20, 30, 40, 50]."
   ]
  },
  {
   "cell_type": "code",
   "execution_count": null,
   "id": "87a697bb",
   "metadata": {},
   "outputs": [],
   "source": [
    "my_list = [10, 20, 30, 40, 50]\n",
    "my_list.reverse()\n",
    "print(my_list)"
   ]
  }
 ],
 "metadata": {},
 "nbformat": 4,
 "nbformat_minor": 5
}
