{
 "cells": [
  {
   "cell_type": "markdown",
   "id": "0fc15170",
   "metadata": {},
   "source": [
    "# Theory Questions with Answers"
   ]
  },
  {
   "cell_type": "markdown",
   "id": "dbcc911a",
   "metadata": {},
   "source": [
    "### 1. What is the difference between a function and a method in Python?\n",
    "A **function** is a block of reusable code defined using `def`, which can be called independently. A **method** is similar but is associated with an object of a class.\n",
    "\n",
    "**Example:**\n",
    "```python\n",
    "def greet():\n",
    "    return 'Hello'\n",
    "print(greet())  # Function call\n",
    "\n",
    "s = 'hello'\n",
    "print(s.upper())  # Method call on string object\n",
    "```"
   ]
  },
  {
   "cell_type": "markdown",
   "id": "529bd7d4",
   "metadata": {},
   "source": [
    "### 2. Explain the concept of function arguments and parameters in Python.\n",
    "Parameters are variables listed in a function definition, while arguments are the actual values passed during the call.\n",
    "\n",
    "**Example:**\n",
    "```python\n",
    "def add(a, b):  # a and b are parameters\n",
    "    return a + b\n",
    "\n",
    "print(add(2, 3))  # 2 and 3 are arguments\n",
    "```"
   ]
  },
  {
   "cell_type": "markdown",
   "id": "b37b580f",
   "metadata": {},
   "source": [
    "### 3. What are the different ways to define and call a function in Python?\n",
    "We can define a function using `def` or `lambda`. Functions can be called directly or passed as arguments.\n",
    "\n",
    "**Example:**\n",
    "```python\n",
    "def square(x):\n",
    "    return x * x\n",
    "print(square(5))\n",
    "```"
   ]
  },
  {
   "cell_type": "markdown",
   "id": "05de5d06",
   "metadata": {},
   "source": [
    "### 4. What is the purpose of the `return` statement in a Python function?\n",
    "The `return` statement is used to send a value from a function back to the caller.\n",
    "\n",
    "**Example:**\n",
    "```python\n",
    "def add(a, b):\n",
    "    return a + b\n",
    "result = add(3, 4)\n",
    "print(result)\n",
    "```"
   ]
  },
  {
   "cell_type": "markdown",
   "id": "2ccc78f6",
   "metadata": {},
   "source": [
    "### 5. What are iterators in Python and how do they differ from iterables?\n",
    "An **iterable** is any object that can return an iterator (like lists, tuples). An **iterator** is an object that produces elements one at a time using `__next__()`.\n",
    "\n",
    "**Example:**\n",
    "```python\n",
    "my_list = [1,2,3]\n",
    "it = iter(my_list)\n",
    "print(next(it))\n",
    "```"
   ]
  },
  {
   "cell_type": "markdown",
   "id": "05113fa7",
   "metadata": {},
   "source": [
    "### 6. Explain the concept of generators in Python and how they are defined.\n",
    "Generators are functions that yield values one by one using `yield`, which allows them to remember their state.\n",
    "\n",
    "**Example:**\n",
    "```python\n",
    "def count_up_to(n):\n",
    "    i = 1\n",
    "    while i <= n:\n",
    "        yield i\n",
    "        i += 1\n",
    "for val in count_up_to(3):\n",
    "    print(val)\n",
    "```"
   ]
  },
  {
   "cell_type": "markdown",
   "id": "cf684c0d",
   "metadata": {},
   "source": [
    "### 7. What are the advantages of using generators over regular functions?\n",
    "Generators use less memory since they yield values one at a time instead of returning all at once, which is efficient for large datasets."
   ]
  },
  {
   "cell_type": "markdown",
   "id": "899bc967",
   "metadata": {},
   "source": [
    "### 8. What is a lambda function in Python and when is it typically used?\n",
    "A lambda function is an anonymous, single-line function defined using `lambda`. It's often used for small tasks like sorting.\n",
    "\n",
    "**Example:**\n",
    "```python\n",
    "double = lambda x: x * 2\n",
    "print(double(5))\n",
    "```"
   ]
  },
  {
   "cell_type": "markdown",
   "id": "27337f19",
   "metadata": {},
   "source": [
    "### 9. Explain the purpose and usage of the `map()` function in Python.\n",
    "`map()` applies a function to all items in an iterable.\n",
    "\n",
    "**Example:**\n",
    "```python\n",
    "def square(x): return x*x\n",
    "nums = [1,2,3]\n",
    "result = list(map(square, nums))\n",
    "print(result)\n",
    "```"
   ]
  },
  {
   "cell_type": "markdown",
   "id": "c150d53e",
   "metadata": {},
   "source": [
    "### 10. What is the difference between `map()`, `reduce()`, and `filter()` functions in Python?\n",
    "- `map()`: Applies a function to all elements.\n",
    "- `filter()`: Keeps only elements for which a function returns True.\n",
    "- `reduce()`: Reduces a sequence to a single value.\n",
    "\n",
    "**Example:**\n",
    "```python\n",
    "from functools import reduce\n",
    "nums = [1,2,3,4]\n",
    "sum_all = reduce(lambda x,y: x+y, nums)\n",
    "print(sum_all)\n",
    "```"
   ]
  },
  {
   "cell_type": "markdown",
   "id": "37a5d003",
   "metadata": {},
   "source": [
    "### 11. Using pen & paper, write the internal mechanism for sum operation using reduce function on this given list: [47, 11, 42, 13].\n"
   ]
  }
 ],
 "metadata": {
  "language_info": {
   "name": "python"
  }
 },
 "nbformat": 4,
 "nbformat_minor": 5
}
